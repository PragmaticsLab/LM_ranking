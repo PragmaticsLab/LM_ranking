{
 "cells": [
  {
   "cell_type": "code",
   "execution_count": 1,
   "metadata": {},
   "outputs": [],
   "source": [
    "import pandas as pd\n",
    "import numpy as np\n",
    "import sys\n",
    "\n",
    "sys.path.append(\"..\")\n",
    "\n",
    "from votenrank import Leaderboard\n",
    "from votenrank.iia_exp import compute_iia\n",
    "from votenrank.data_processing import preprocess_glue, preprocess_sglue, preprocess_value\n",
    "\n",
    "pd.set_option(\"display.max_colwidth\", None)\n",
    "pd.set_option(\"display.max_columns\", None)\n",
    "pd.set_option(\"display.max_rows\", None)\n",
    "\n",
    "import warnings\n",
    "warnings.filterwarnings(\"ignore\")"
   ]
  },
  {
   "cell_type": "markdown",
   "metadata": {},
   "source": [
    "## GLUE"
   ]
  },
  {
   "cell_type": "code",
   "execution_count": 2,
   "metadata": {},
   "outputs": [
    {
     "data": {
      "text/html": [
       "<div>\n",
       "<style scoped>\n",
       "    .dataframe tbody tr th:only-of-type {\n",
       "        vertical-align: middle;\n",
       "    }\n",
       "\n",
       "    .dataframe tbody tr th {\n",
       "        vertical-align: top;\n",
       "    }\n",
       "\n",
       "    .dataframe thead th {\n",
       "        text-align: right;\n",
       "    }\n",
       "</style>\n",
       "<table border=\"1\" class=\"dataframe\">\n",
       "  <thead>\n",
       "    <tr style=\"text-align: right;\">\n",
       "      <th></th>\n",
       "      <th>CoLA</th>\n",
       "      <th>SST-2</th>\n",
       "      <th>MNLI-m</th>\n",
       "      <th>MNLI-mm</th>\n",
       "      <th>QNLI</th>\n",
       "      <th>RTE</th>\n",
       "      <th>WNLI</th>\n",
       "      <th>AX</th>\n",
       "      <th>MRPC_n1</th>\n",
       "      <th>MRPC_n2</th>\n",
       "      <th>STS-B_n1</th>\n",
       "      <th>STS-B_n2</th>\n",
       "      <th>QQP_n1</th>\n",
       "      <th>QQP_n2</th>\n",
       "    </tr>\n",
       "    <tr>\n",
       "      <th>Model</th>\n",
       "      <th></th>\n",
       "      <th></th>\n",
       "      <th></th>\n",
       "      <th></th>\n",
       "      <th></th>\n",
       "      <th></th>\n",
       "      <th></th>\n",
       "      <th></th>\n",
       "      <th></th>\n",
       "      <th></th>\n",
       "      <th></th>\n",
       "      <th></th>\n",
       "      <th></th>\n",
       "      <th></th>\n",
       "    </tr>\n",
       "  </thead>\n",
       "  <tbody>\n",
       "    <tr>\n",
       "      <th>ERNIE</th>\n",
       "      <td>75.5</td>\n",
       "      <td>97.8</td>\n",
       "      <td>92.3</td>\n",
       "      <td>91.7</td>\n",
       "      <td>97.3</td>\n",
       "      <td>92.6</td>\n",
       "      <td>95.9</td>\n",
       "      <td>51.7</td>\n",
       "      <td>93.9</td>\n",
       "      <td>91.8</td>\n",
       "      <td>93.0</td>\n",
       "      <td>92.6</td>\n",
       "      <td>75.2</td>\n",
       "      <td>90.9</td>\n",
       "    </tr>\n",
       "    <tr>\n",
       "      <th>StructBERT + CLEVER</th>\n",
       "      <td>75.3</td>\n",
       "      <td>97.7</td>\n",
       "      <td>91.7</td>\n",
       "      <td>91.5</td>\n",
       "      <td>97.4</td>\n",
       "      <td>92.5</td>\n",
       "      <td>95.2</td>\n",
       "      <td>49.1</td>\n",
       "      <td>93.9</td>\n",
       "      <td>91.9</td>\n",
       "      <td>93.5</td>\n",
       "      <td>93.1</td>\n",
       "      <td>75.6</td>\n",
       "      <td>90.8</td>\n",
       "    </tr>\n",
       "    <tr>\n",
       "      <th>DeBERTa / TuringNLRv4</th>\n",
       "      <td>71.5</td>\n",
       "      <td>97.5</td>\n",
       "      <td>91.9</td>\n",
       "      <td>91.6</td>\n",
       "      <td>99.2</td>\n",
       "      <td>93.2</td>\n",
       "      <td>94.5</td>\n",
       "      <td>53.2</td>\n",
       "      <td>94.0</td>\n",
       "      <td>92.0</td>\n",
       "      <td>92.9</td>\n",
       "      <td>92.6</td>\n",
       "      <td>76.2</td>\n",
       "      <td>90.8</td>\n",
       "    </tr>\n",
       "    <tr>\n",
       "      <th>DeBERTa + CLEVER</th>\n",
       "      <td>73.4</td>\n",
       "      <td>97.5</td>\n",
       "      <td>92.1</td>\n",
       "      <td>91.7</td>\n",
       "      <td>96.5</td>\n",
       "      <td>92.8</td>\n",
       "      <td>96.6</td>\n",
       "      <td>35.2</td>\n",
       "      <td>92.8</td>\n",
       "      <td>90.4</td>\n",
       "      <td>93.2</td>\n",
       "      <td>92.9</td>\n",
       "      <td>76.3</td>\n",
       "      <td>90.8</td>\n",
       "    </tr>\n",
       "    <tr>\n",
       "      <th>MacALBERT + DKM</th>\n",
       "      <td>74.8</td>\n",
       "      <td>97.0</td>\n",
       "      <td>91.3</td>\n",
       "      <td>91.1</td>\n",
       "      <td>97.8</td>\n",
       "      <td>92.0</td>\n",
       "      <td>94.5</td>\n",
       "      <td>52.6</td>\n",
       "      <td>94.5</td>\n",
       "      <td>92.6</td>\n",
       "      <td>92.8</td>\n",
       "      <td>92.6</td>\n",
       "      <td>74.7</td>\n",
       "      <td>90.6</td>\n",
       "    </tr>\n",
       "  </tbody>\n",
       "</table>\n",
       "</div>"
      ],
      "text/plain": [
       "                       CoLA  SST-2  MNLI-m  MNLI-mm  QNLI   RTE  WNLI    AX  \\\n",
       "Model                                                                         \n",
       "ERNIE                  75.5   97.8    92.3     91.7  97.3  92.6  95.9  51.7   \n",
       "StructBERT + CLEVER    75.3   97.7    91.7     91.5  97.4  92.5  95.2  49.1   \n",
       "DeBERTa / TuringNLRv4  71.5   97.5    91.9     91.6  99.2  93.2  94.5  53.2   \n",
       "DeBERTa + CLEVER       73.4   97.5    92.1     91.7  96.5  92.8  96.6  35.2   \n",
       "MacALBERT + DKM        74.8   97.0    91.3     91.1  97.8  92.0  94.5  52.6   \n",
       "\n",
       "                       MRPC_n1  MRPC_n2  STS-B_n1  STS-B_n2  QQP_n1  QQP_n2  \n",
       "Model                                                                        \n",
       "ERNIE                     93.9     91.8      93.0      92.6    75.2    90.9  \n",
       "StructBERT + CLEVER       93.9     91.9      93.5      93.1    75.6    90.8  \n",
       "DeBERTa / TuringNLRv4     94.0     92.0      92.9      92.6    76.2    90.8  \n",
       "DeBERTa + CLEVER          92.8     90.4      93.2      92.9    76.3    90.8  \n",
       "MacALBERT + DKM           94.5     92.6      92.8      92.6    74.7    90.6  "
      ]
     },
     "execution_count": 2,
     "metadata": {},
     "output_type": "execute_result"
    }
   ],
   "source": [
    "glue, glue_weights = preprocess_glue(pd.read_csv(\"../tables/leaderboards - GLUE.csv\"), head=30)\n",
    "glue.head()"
   ]
  },
  {
   "cell_type": "code",
   "execution_count": 3,
   "metadata": {},
   "outputs": [
    {
     "name": "stdout",
     "output_type": "stream",
     "text": [
      "borda:\n"
     ]
    },
    {
     "data": {
      "application/vnd.jupyter.widget-view+json": {
       "model_id": "",
       "version_major": 2,
       "version_minor": 0
      },
      "text/plain": [
       "  0%|          | 0/50 [00:00<?, ?it/s]"
      ]
     },
     "metadata": {},
     "output_type": "display_data"
    },
    {
     "name": "stdout",
     "output_type": "stream",
     "text": [
      "(6.64, [6, 10, 5, 5, 6, 4, 13, 9, 3, 8, 4, 7, 8, 7, 9, 12, 6, 7, 5, 4, 2, 6, 3, 9, 3, 9, 4, 10, 4, 6, 9, 10, 6, 4, 4, 8, 5, 3, 7, 13, 10, 9, 7, 7, 7, 10, 4, 7, 4, 4])\n",
      "\n",
      "copeland:\n"
     ]
    },
    {
     "data": {
      "application/vnd.jupyter.widget-view+json": {
       "model_id": "",
       "version_major": 2,
       "version_minor": 0
      },
      "text/plain": [
       "  0%|          | 0/50 [00:00<?, ?it/s]"
      ]
     },
     "metadata": {},
     "output_type": "display_data"
    },
    {
     "name": "stdout",
     "output_type": "stream",
     "text": [
      "(3.14, [5, 2, 3, 0, 3, 3, 3, 5, 4, 3, 3, 1, 3, 2, 4, 3, 2, 0, 2, 4, 4, 0, 1, 4, 5, 2, 4, 4, 6, 5, 5, 4, 2, 4, 2, 0, 4, 3, 2, 3, 2, 3, 4, 2, 1, 4, 6, 5, 6, 5])\n",
      "\n",
      "dowdall:\n"
     ]
    },
    {
     "data": {
      "application/vnd.jupyter.widget-view+json": {
       "model_id": "",
       "version_major": 2,
       "version_minor": 0
      },
      "text/plain": [
       "  0%|          | 0/50 [00:00<?, ?it/s]"
      ]
     },
     "metadata": {},
     "output_type": "display_data"
    },
    {
     "name": "stdout",
     "output_type": "stream",
     "text": [
      "(8.68, [9, 8, 10, 7, 15, 6, 11, 9, 10, 10, 6, 7, 8, 7, 10, 6, 8, 9, 10, 10, 11, 10, 10, 11, 9, 14, 4, 7, 8, 8, 9, 7, 9, 11, 10, 13, 5, 9, 7, 6, 11, 6, 8, 8, 10, 5, 9, 3, 7, 13])\n",
      "\n",
      "mean:\n"
     ]
    },
    {
     "data": {
      "application/vnd.jupyter.widget-view+json": {
       "model_id": "",
       "version_major": 2,
       "version_minor": 0
      },
      "text/plain": [
       "  0%|          | 0/50 [00:00<?, ?it/s]"
      ]
     },
     "metadata": {},
     "output_type": "display_data"
    },
    {
     "name": "stdout",
     "output_type": "stream",
     "text": [
      "(0.0, [0, 0, 0, 0, 0, 0, 0, 0, 0, 0, 0, 0, 0, 0, 0, 0, 0, 0, 0, 0, 0, 0, 0, 0, 0, 0, 0, 0, 0, 0, 0, 0, 0, 0, 0, 0, 0, 0, 0, 0, 0, 0, 0, 0, 0, 0, 0, 0, 0, 0])\n",
      "\n",
      "minimax:\n"
     ]
    },
    {
     "data": {
      "application/vnd.jupyter.widget-view+json": {
       "model_id": "",
       "version_major": 2,
       "version_minor": 0
      },
      "text/plain": [
       "  0%|          | 0/50 [00:00<?, ?it/s]"
      ]
     },
     "metadata": {},
     "output_type": "display_data"
    },
    {
     "name": "stdout",
     "output_type": "stream",
     "text": [
      "(2.66, [3, 7, 3, 1, 2, 2, 4, 4, 2, 3, 4, 1, 1, 3, 3, 4, 4, 2, 0, 2, 2, 1, 3, 2, 5, 4, 1, 1, 3, 3, 3, 3, 3, 3, 2, 2, 1, 1, 4, 0, 1, 2, 2, 5, 2, 1, 5, 5, 5, 3])\n",
      "\n",
      "plurality:\n"
     ]
    },
    {
     "data": {
      "application/vnd.jupyter.widget-view+json": {
       "model_id": "",
       "version_major": 2,
       "version_minor": 0
      },
      "text/plain": [
       "  0%|          | 0/50 [00:00<?, ?it/s]"
      ]
     },
     "metadata": {},
     "output_type": "display_data"
    },
    {
     "name": "stdout",
     "output_type": "stream",
     "text": [
      "(4.94, [5, 6, 4, 5, 5, 4, 7, 3, 4, 7, 5, 7, 5, 6, 5, 4, 2, 4, 7, 3, 6, 6, 7, 4, 5, 4, 5, 4, 4, 8, 5, 6, 5, 3, 6, 5, 4, 6, 4, 4, 3, 6, 5, 4, 4, 5, 4, 5, 6, 6])\n",
      "\n"
     ]
    }
   ],
   "source": [
    "for method in [\"borda\", \"copeland\", \"dowdall\", \"mean\", \"minimax\", \"plurality\"]:\n",
    "    print(f\"{method}:\")\n",
    "    print(compute_iia(method, glue.dropna(), glue_weights, num_repetitions=50), end=\"\\n\\n\")"
   ]
  },
  {
   "cell_type": "markdown",
   "metadata": {},
   "source": [
    "## SGLUE"
   ]
  },
  {
   "cell_type": "code",
   "execution_count": 4,
   "metadata": {},
   "outputs": [
    {
     "data": {
      "text/html": [
       "<div>\n",
       "<style scoped>\n",
       "    .dataframe tbody tr th:only-of-type {\n",
       "        vertical-align: middle;\n",
       "    }\n",
       "\n",
       "    .dataframe tbody tr th {\n",
       "        vertical-align: top;\n",
       "    }\n",
       "\n",
       "    .dataframe thead th {\n",
       "        text-align: right;\n",
       "    }\n",
       "</style>\n",
       "<table border=\"1\" class=\"dataframe\">\n",
       "  <thead>\n",
       "    <tr style=\"text-align: right;\">\n",
       "      <th></th>\n",
       "      <th>BoolQ</th>\n",
       "      <th>COPA</th>\n",
       "      <th>RTE</th>\n",
       "      <th>WiC</th>\n",
       "      <th>WSC</th>\n",
       "      <th>AX-b</th>\n",
       "      <th>CB_n1</th>\n",
       "      <th>CB_n2</th>\n",
       "      <th>MultiRC_n1</th>\n",
       "      <th>MultiRC_n2</th>\n",
       "      <th>ReCoRD_n1</th>\n",
       "      <th>ReCoRD_n2</th>\n",
       "      <th>AX-g_n1</th>\n",
       "      <th>AX-g_n2</th>\n",
       "    </tr>\n",
       "    <tr>\n",
       "      <th>Model</th>\n",
       "      <th></th>\n",
       "      <th></th>\n",
       "      <th></th>\n",
       "      <th></th>\n",
       "      <th></th>\n",
       "      <th></th>\n",
       "      <th></th>\n",
       "      <th></th>\n",
       "      <th></th>\n",
       "      <th></th>\n",
       "      <th></th>\n",
       "      <th></th>\n",
       "      <th></th>\n",
       "      <th></th>\n",
       "    </tr>\n",
       "  </thead>\n",
       "  <tbody>\n",
       "    <tr>\n",
       "      <th>ERNIE 3.0</th>\n",
       "      <td>91.0</td>\n",
       "      <td>97.4</td>\n",
       "      <td>92.6</td>\n",
       "      <td>77.4</td>\n",
       "      <td>97.3</td>\n",
       "      <td>68.6</td>\n",
       "      <td>98.6</td>\n",
       "      <td>99.2</td>\n",
       "      <td>88.6</td>\n",
       "      <td>63.2</td>\n",
       "      <td>94.7</td>\n",
       "      <td>94.2</td>\n",
       "      <td>92.7</td>\n",
       "      <td>94.7</td>\n",
       "    </tr>\n",
       "    <tr>\n",
       "      <th>T5 + UDG, Single Model (Google Brain)</th>\n",
       "      <td>91.4</td>\n",
       "      <td>98.0</td>\n",
       "      <td>93.0</td>\n",
       "      <td>77.9</td>\n",
       "      <td>96.6</td>\n",
       "      <td>69.1</td>\n",
       "      <td>95.8</td>\n",
       "      <td>97.6</td>\n",
       "      <td>88.3</td>\n",
       "      <td>63.0</td>\n",
       "      <td>94.2</td>\n",
       "      <td>93.5</td>\n",
       "      <td>92.7</td>\n",
       "      <td>91.9</td>\n",
       "    </tr>\n",
       "    <tr>\n",
       "      <th>DeBERTa / TuringNLRv4</th>\n",
       "      <td>90.4</td>\n",
       "      <td>98.4</td>\n",
       "      <td>93.2</td>\n",
       "      <td>77.5</td>\n",
       "      <td>95.9</td>\n",
       "      <td>66.7</td>\n",
       "      <td>95.7</td>\n",
       "      <td>97.6</td>\n",
       "      <td>88.2</td>\n",
       "      <td>63.7</td>\n",
       "      <td>94.5</td>\n",
       "      <td>94.1</td>\n",
       "      <td>93.3</td>\n",
       "      <td>93.8</td>\n",
       "    </tr>\n",
       "    <tr>\n",
       "      <th>SuperGLUE Human Baselines</th>\n",
       "      <td>89.0</td>\n",
       "      <td>100.0</td>\n",
       "      <td>93.6</td>\n",
       "      <td>80.0</td>\n",
       "      <td>100.0</td>\n",
       "      <td>76.6</td>\n",
       "      <td>95.8</td>\n",
       "      <td>98.9</td>\n",
       "      <td>81.8</td>\n",
       "      <td>51.9</td>\n",
       "      <td>91.7</td>\n",
       "      <td>91.3</td>\n",
       "      <td>99.3</td>\n",
       "      <td>99.7</td>\n",
       "    </tr>\n",
       "    <tr>\n",
       "      <th>T5</th>\n",
       "      <td>91.2</td>\n",
       "      <td>94.8</td>\n",
       "      <td>92.5</td>\n",
       "      <td>76.9</td>\n",
       "      <td>93.8</td>\n",
       "      <td>65.6</td>\n",
       "      <td>93.9</td>\n",
       "      <td>96.8</td>\n",
       "      <td>88.1</td>\n",
       "      <td>63.3</td>\n",
       "      <td>94.1</td>\n",
       "      <td>93.4</td>\n",
       "      <td>92.7</td>\n",
       "      <td>91.9</td>\n",
       "    </tr>\n",
       "  </tbody>\n",
       "</table>\n",
       "</div>"
      ],
      "text/plain": [
       "                                       BoolQ   COPA   RTE   WiC    WSC  AX-b  \\\n",
       "Model                                                                          \n",
       "ERNIE 3.0                               91.0   97.4  92.6  77.4   97.3  68.6   \n",
       "T5 + UDG, Single Model (Google Brain)   91.4   98.0  93.0  77.9   96.6  69.1   \n",
       "DeBERTa / TuringNLRv4                   90.4   98.4  93.2  77.5   95.9  66.7   \n",
       "SuperGLUE Human Baselines               89.0  100.0  93.6  80.0  100.0  76.6   \n",
       "T5                                      91.2   94.8  92.5  76.9   93.8  65.6   \n",
       "\n",
       "                                       CB_n1  CB_n2  MultiRC_n1  MultiRC_n2  \\\n",
       "Model                                                                         \n",
       "ERNIE 3.0                               98.6   99.2        88.6        63.2   \n",
       "T5 + UDG, Single Model (Google Brain)   95.8   97.6        88.3        63.0   \n",
       "DeBERTa / TuringNLRv4                   95.7   97.6        88.2        63.7   \n",
       "SuperGLUE Human Baselines               95.8   98.9        81.8        51.9   \n",
       "T5                                      93.9   96.8        88.1        63.3   \n",
       "\n",
       "                                       ReCoRD_n1  ReCoRD_n2  AX-g_n1  AX-g_n2  \n",
       "Model                                                                          \n",
       "ERNIE 3.0                                   94.7       94.2     92.7     94.7  \n",
       "T5 + UDG, Single Model (Google Brain)       94.2       93.5     92.7     91.9  \n",
       "DeBERTa / TuringNLRv4                       94.5       94.1     93.3     93.8  \n",
       "SuperGLUE Human Baselines                   91.7       91.3     99.3     99.7  \n",
       "T5                                          94.1       93.4     92.7     91.9  "
      ]
     },
     "execution_count": 4,
     "metadata": {},
     "output_type": "execute_result"
    }
   ],
   "source": [
    "from votenrank.data_processing import preprocess_sglue\n",
    "\n",
    "sglue, sglue_weights = preprocess_sglue(pd.read_csv(\"../tables/leaderboards - SuperGLUE.csv\"))\n",
    "sglue.head()"
   ]
  },
  {
   "cell_type": "code",
   "execution_count": 5,
   "metadata": {},
   "outputs": [
    {
     "name": "stdout",
     "output_type": "stream",
     "text": [
      "borda:\n"
     ]
    },
    {
     "data": {
      "application/vnd.jupyter.widget-view+json": {
       "model_id": "",
       "version_major": 2,
       "version_minor": 0
      },
      "text/plain": [
       "  0%|          | 0/50 [00:00<?, ?it/s]"
      ]
     },
     "metadata": {},
     "output_type": "display_data"
    },
    {
     "name": "stdout",
     "output_type": "stream",
     "text": [
      "(4.32, [2, 5, 4, 3, 1, 3, 6, 7, 5, 5, 6, 5, 7, 6, 6, 1, 6, 4, 4, 3, 3, 7, 6, 3, 1, 6, 3, 5, 2, 2, 3, 6, 3, 3, 5, 6, 4, 2, 6, 5, 6, 5, 2, 3, 4, 4, 5, 4, 7, 6])\n",
      "\n",
      "copeland:\n"
     ]
    },
    {
     "data": {
      "application/vnd.jupyter.widget-view+json": {
       "model_id": "",
       "version_major": 2,
       "version_minor": 0
      },
      "text/plain": [
       "  0%|          | 0/50 [00:00<?, ?it/s]"
      ]
     },
     "metadata": {},
     "output_type": "display_data"
    },
    {
     "name": "stdout",
     "output_type": "stream",
     "text": [
      "(0.92, [1, 1, 1, 0, 2, 0, 2, 0, 1, 0, 0, 0, 0, 0, 0, 2, 2, 1, 2, 3, 0, 0, 0, 2, 0, 2, 4, 0, 0, 0, 0, 2, 3, 1, 1, 2, 1, 0, 0, 1, 0, 0, 1, 3, 0, 2, 2, 1, 0, 0])\n",
      "\n",
      "dowdall:\n"
     ]
    },
    {
     "data": {
      "application/vnd.jupyter.widget-view+json": {
       "model_id": "",
       "version_major": 2,
       "version_minor": 0
      },
      "text/plain": [
       "  0%|          | 0/50 [00:00<?, ?it/s]"
      ]
     },
     "metadata": {},
     "output_type": "display_data"
    },
    {
     "name": "stdout",
     "output_type": "stream",
     "text": [
      "(4.36, [6, 4, 1, 2, 4, 4, 2, 5, 4, 6, 5, 4, 6, 3, 5, 9, 4, 8, 1, 3, 7, 4, 1, 3, 6, 2, 3, 3, 13, 1, 2, 5, 3, 4, 8, 5, 4, 9, 6, 3, 10, 2, 4, 6, 1, 5, 3, 3, 0, 6])\n",
      "\n",
      "mean:\n"
     ]
    },
    {
     "data": {
      "application/vnd.jupyter.widget-view+json": {
       "model_id": "",
       "version_major": 2,
       "version_minor": 0
      },
      "text/plain": [
       "  0%|          | 0/50 [00:00<?, ?it/s]"
      ]
     },
     "metadata": {},
     "output_type": "display_data"
    },
    {
     "name": "stdout",
     "output_type": "stream",
     "text": [
      "(0.0, [0, 0, 0, 0, 0, 0, 0, 0, 0, 0, 0, 0, 0, 0, 0, 0, 0, 0, 0, 0, 0, 0, 0, 0, 0, 0, 0, 0, 0, 0, 0, 0, 0, 0, 0, 0, 0, 0, 0, 0, 0, 0, 0, 0, 0, 0, 0, 0, 0, 0])\n",
      "\n",
      "minimax:\n"
     ]
    },
    {
     "data": {
      "application/vnd.jupyter.widget-view+json": {
       "model_id": "",
       "version_major": 2,
       "version_minor": 0
      },
      "text/plain": [
       "  0%|          | 0/50 [00:00<?, ?it/s]"
      ]
     },
     "metadata": {},
     "output_type": "display_data"
    },
    {
     "name": "stdout",
     "output_type": "stream",
     "text": [
      "(1.08, [1, 1, 1, 1, 2, 0, 2, 0, 1, 1, 1, 0, 1, 2, 0, 0, 1, 2, 1, 1, 2, 3, 1, 1, 1, 1, 1, 2, 1, 3, 1, 0, 2, 2, 1, 1, 0, 0, 0, 0, 1, 2, 0, 2, 1, 3, 0, 0, 2, 1])\n",
      "\n",
      "plurality:\n"
     ]
    },
    {
     "data": {
      "application/vnd.jupyter.widget-view+json": {
       "model_id": "",
       "version_major": 2,
       "version_minor": 0
      },
      "text/plain": [
       "  0%|          | 0/50 [00:00<?, ?it/s]"
      ]
     },
     "metadata": {},
     "output_type": "display_data"
    },
    {
     "name": "stdout",
     "output_type": "stream",
     "text": [
      "(1.76, [1, 2, 0, 1, 2, 3, 1, 3, 3, 1, 1, 1, 3, 4, 0, 2, 3, 2, 0, 2, 0, 2, 1, 4, 1, 3, 2, 3, 1, 2, 1, 2, 3, 3, 2, 1, 1, 1, 0, 2, 4, 2, 2, 0, 2, 1, 1, 2, 2, 2])\n",
      "\n"
     ]
    }
   ],
   "source": [
    "for method in [\"borda\", \"copeland\", \"dowdall\", \"mean\", \"minimax\", \"plurality\"]:\n",
    "    print(f\"{method}:\")\n",
    "    print(compute_iia(method, sglue.dropna(), sglue_weights, num_repetitions=50), end=\"\\n\\n\")"
   ]
  }
 ],
 "metadata": {
  "kernelspec": {
   "display_name": "Python 3 (ipykernel)",
   "language": "python",
   "name": "python3"
  },
  "language_info": {
   "codemirror_mode": {
    "name": "ipython",
    "version": 3
   },
   "file_extension": ".py",
   "mimetype": "text/x-python",
   "name": "python",
   "nbconvert_exporter": "python",
   "pygments_lexer": "ipython3",
   "version": "3.7.12"
  },
  "vscode": {
   "interpreter": {
    "hash": "31f2aee4e71d21fbe5cf8b01ff0e069b9275f58929596ceb00d14d90e3e16cd6"
   }
  }
 },
 "nbformat": 4,
 "nbformat_minor": 2
}
