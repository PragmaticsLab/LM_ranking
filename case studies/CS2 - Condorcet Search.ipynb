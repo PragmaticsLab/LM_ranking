{
 "cells": [
  {
   "cell_type": "markdown",
   "metadata": {},
   "source": [
    "# Case Study 2\n",
    "\n",
    "In this notebook we find *prospective* models on GLUE, SuperGLUE and VALUE."
   ]
  },
  {
   "cell_type": "code",
   "execution_count": 1,
   "metadata": {},
   "outputs": [],
   "source": [
    "import pandas as pd\n",
    "import numpy as np\n",
    "import sys\n",
    "from pprint import pprint\n",
    "\n",
    "import warnings\n",
    "warnings.filterwarnings(\"ignore\", category=RuntimeWarning)\n",
    "\n",
    "sys.path.append(\"..\")\n",
    "\n",
    "from votenrank import Leaderboard\n",
    "from votenrank.data_processing import preprocess_glue, preprocess_sglue, preprocess_value"
   ]
  },
  {
   "cell_type": "markdown",
   "metadata": {},
   "source": [
    "## GLUE"
   ]
  },
  {
   "cell_type": "code",
   "execution_count": 2,
   "metadata": {},
   "outputs": [
    {
     "name": "stderr",
     "output_type": "stream",
     "text": [
      "/home/data_sapiens/.local/lib/python3.8/site-packages/pandas/core/indexing.py:1732: SettingWithCopyWarning: \n",
      "A value is trying to be set on a copy of a slice from a DataFrame\n",
      "\n",
      "See the caveats in the documentation: https://pandas.pydata.org/pandas-docs/stable/user_guide/indexing.html#returning-a-view-versus-a-copy\n",
      "  self._setitem_single_block(indexer, value, name)\n"
     ]
    },
    {
     "data": {
      "application/vnd.jupyter.widget-view+json": {
       "model_id": "dd786d42616d4370b81df2f0ae223631",
       "version_major": 2,
       "version_minor": 0
      },
      "text/plain": [
       "  0%|          | 0/97 [00:00<?, ?it/s]"
      ]
     },
     "metadata": {},
     "output_type": "display_data"
    },
    {
     "name": "stdout",
     "output_type": "stream",
     "text": [
      "Prospective models (9):\n",
      "['ERNIE',\n",
      " 'StructBERT + CLEVER',\n",
      " 'DeBERTa / TuringNLRv4',\n",
      " 'DeBERTa + CLEVER',\n",
      " 'MacALBERT + DKM',\n",
      " 'ALBERT + DAAF + NAS',\n",
      " 'T5',\n",
      " 'MT-DNN-SMART',\n",
      " 'GLUE Human Baselines']\n",
      "\n",
      "Non-prospective models (88):\n",
      "['NEZHA-Large',\n",
      " 'Funnel-Transformer (Ensemble B10-10-10H1024)',\n",
      " 'ELECTRA-Large + Standard Tricks',\n",
      " 'FreeLB-RoBERTa (ensemble)',\n",
      " 'HIRE-RoBERTa',\n",
      " 'RoBERTa',\n",
      " 'MT-DNN-ensemble',\n",
      " 'ELECTRA-Large-NewSCL(single)',\n",
      " 'Bort (Alexa AI)',\n",
      " 'ConvBERT base',\n",
      " 'Snorkel MeTaL',\n",
      " 'XLM (English only)',\n",
      " 'ConvBERT-base-paddle-v1.1',\n",
      " 'SemBERT',\n",
      " 'mpnet-base-paddle',\n",
      " 'SpanBERT (single-task training)',\n",
      " 'distilRoBERTa+GAL (6-layer transformer single model)',\n",
      " 'BERT + BAM',\n",
      " 'Span-Extractive BERT on STILTs',\n",
      " 'LV-BERT-base',\n",
      " 'BERT on STILTs',\n",
      " '1',\n",
      " 'RobustRoBERTa',\n",
      " 'WARP with RoBERTa',\n",
      " 'CombinedKD-TinyRoBERTa (6 layer 82M parameters, MATE-KD + AnnealingKD)',\n",
      " 'segaBERT-large',\n",
      " \"u-PMLM-R (Huawei Noah's Ark Lab)\",\n",
      " 'AMBERT-BASE',\n",
      " 'Routed BERTs',\n",
      " 'CERT',\n",
      " 'BERT: 24-layers, 16-heads, 1024-hidden',\n",
      " 'HF bert-large-uncased (default fine-tuning)',\n",
      " 'BERT + Single-task Adapters',\n",
      " 'KI-BERT',\n",
      " 'elasticbert-large-12L',\n",
      " 'roberta-large-12L',\n",
      " 'Macaron Net-base',\n",
      " 'Bert-n-Pals',\n",
      " 'DeepPavlov Multitask PalBert',\n",
      " 'BERT-EMD(6-layer; Single model; No DA)',\n",
      " 'SesameBERT-Base',\n",
      " 'MobileBERT',\n",
      " 'StackingBERT-Base',\n",
      " 'TinyBERT (6-layer; Single model)',\n",
      " 'SqueezeBERT (4.3x faster than BERT-base on smartphone)',\n",
      " 'CAMTL',\n",
      " 'BERT-of-Theseus (6-layer; single model)',\n",
      " 'EL-BERT(6-Layer, Single model)',\n",
      " 'ZHIYUAN',\n",
      " 'distilbert-base-uncased',\n",
      " 'RefBERT_1',\n",
      " 'RefBERT_2',\n",
      " 'RefBERT_3',\n",
      " 'RefBERT_4',\n",
      " 'Bag-of-words only BoW-BERT (Base)',\n",
      " 'BiLSTM+ELMo+Attn',\n",
      " 'BiLSTM+ELMo',\n",
      " 'Single Task BiLSTM+ELMo+Attn',\n",
      " 'Single Task BiLSTM+ELMo',\n",
      " 'GenSen',\n",
      " 'BiLSTM+Attn',\n",
      " 'BiLSTM',\n",
      " 'InferSent',\n",
      " 'Single Task BiLSTM',\n",
      " 'Single Task BiLSTM+CoVe',\n",
      " 'BiLSTM+CoVe+Attn',\n",
      " 'Single Task BiLSTM+CoVe+Attn',\n",
      " 'BiLSTM+CoVe',\n",
      " 'Single Task BiLSTM+Attn',\n",
      " 'DisSent',\n",
      " 'Skip-Thought',\n",
      " 'CBOW',\n",
      " 'BERT_mini_AdaBelief_weight_decay',\n",
      " 'SemBERT_large',\n",
      " 'cai',\n",
      " 'force_SEM_1',\n",
      " 'Force_SEM_BERT',\n",
      " 'force_SEM_2',\n",
      " 'force_SEM_3',\n",
      " 'wonker',\n",
      " 'lfhc-16',\n",
      " 'jingxuan',\n",
      " 'jingxuan2e3',\n",
      " 'weijingxuan2e5',\n",
      " 'morpho_attentive 05/17/2021',\n",
      " 'distilbert-base-uncased-flair',\n",
      " 'zhang',\n",
      " 'QQP']\n"
     ]
    }
   ],
   "source": [
    "glue, glue_weights = preprocess_glue(pd.read_csv(\"../tables/leaderboards - GLUE.csv\"))\n",
    "not_nan_glue_lb = Leaderboard(glue.dropna(), weights=glue_weights)\n",
    "\n",
    "split = not_nan_glue_lb.split_models_by_feasibility()\n",
    "\n",
    "print(f\"Prospective models ({len(split['feasible'])}):\")\n",
    "pprint(split[\"feasible\"])\n",
    "print()\n",
    "\n",
    "print(f\"Non-prospective models ({len(split['infeasible'])}):\")\n",
    "pprint(split[\"infeasible\"])"
   ]
  },
  {
   "cell_type": "markdown",
   "metadata": {},
   "source": [
    "## SuperGLUE"
   ]
  },
  {
   "cell_type": "code",
   "execution_count": 3,
   "metadata": {},
   "outputs": [
    {
     "data": {
      "application/vnd.jupyter.widget-view+json": {
       "model_id": "e7ce330d3097436c9687ee9d53d1e36f",
       "version_major": 2,
       "version_minor": 0
      },
      "text/plain": [
       "  0%|          | 0/22 [00:00<?, ?it/s]"
      ]
     },
     "metadata": {},
     "output_type": "display_data"
    },
    {
     "name": "stdout",
     "output_type": "stream",
     "text": [
      "Prospective models (10):\n",
      "['ERNIE 3.0',\n",
      " 'T5 + UDG, Single Model (Google Brain)',\n",
      " 'DeBERTa / TuringNLRv4',\n",
      " 'SuperGLUE Human Baselines',\n",
      " 'T5',\n",
      " 'AILabs Team, Transformers',\n",
      " 'ADAPET (ALBERT) - few-shot',\n",
      " 'Most Frequent Class',\n",
      " 'CBoW',\n",
      " 'WARP (ALBERT-XXL-V2) - Few-Shot (32 Examples)']\n",
      "\n",
      "Non-prospective models (12):\n",
      "['NEZHA-Plus',\n",
      " 'PAI Albert',\n",
      " 'RoBERTa-iCETS',\n",
      " 'RoBERTa (ensemble)',\n",
      " 'RoBERTa-mtl-adv',\n",
      " 'RoBERTa',\n",
      " 'iPET (ALBERT) - Few-Shot (32 Examples)',\n",
      " 'Bort (Alexa AI)',\n",
      " 'BERT-mtl',\n",
      " 'GPT-3 few-shot - OpenAI',\n",
      " 'BERT++',\n",
      " 'BERT']\n"
     ]
    }
   ],
   "source": [
    "sglue, sglue_weights = preprocess_sglue(pd.read_csv(\"../tables/leaderboards - SuperGLUE.csv\"))\n",
    "not_nan_sglue_lb = Leaderboard(sglue.dropna(), weights=sglue_weights)\n",
    "\n",
    "split = not_nan_sglue_lb.split_models_by_feasibility()\n",
    "\n",
    "print(f\"Prospective models ({len(split['feasible'])}):\")\n",
    "pprint(split[\"feasible\"])\n",
    "print()\n",
    "\n",
    "print(f\"Non-prospective models ({len(split['infeasible'])}):\")\n",
    "pprint(split[\"infeasible\"])"
   ]
  },
  {
   "cell_type": "markdown",
   "metadata": {},
   "source": [
    "## VALUE"
   ]
  },
  {
   "cell_type": "code",
   "execution_count": 4,
   "metadata": {},
   "outputs": [
    {
     "data": {
      "application/vnd.jupyter.widget-view+json": {
       "model_id": "856e8bb816644874a09792a2fa32b28b",
       "version_major": 2,
       "version_minor": 0
      },
      "text/plain": [
       "  0%|          | 0/6 [00:00<?, ?it/s]"
      ]
     },
     "metadata": {},
     "output_type": "display_data"
    },
    {
     "name": "stdout",
     "output_type": "stream",
     "text": [
      "Prospective models (3):\n",
      "['craig.starr', 'DuKG', 'HERO 1']\n",
      "\n",
      "Non-prospective models (3):\n",
      "['HERO 2', 'HERO 3', 'HERO 4']\n"
     ]
    }
   ],
   "source": [
    "value = preprocess_value(pd.read_csv(\"../tables/leaderboards - VALUE.csv\"))\n",
    "not_nan_value_lb = Leaderboard(value.dropna())\n",
    "\n",
    "split = not_nan_value_lb.split_models_by_feasibility()\n",
    "\n",
    "print(f\"Prospective models ({len(split['feasible'])}):\")\n",
    "pprint(split[\"feasible\"])\n",
    "print()\n",
    "\n",
    "print(f\"Non-prospective models ({len(split['infeasible'])}):\")\n",
    "pprint(split[\"infeasible\"])"
   ]
  }
 ],
 "metadata": {
  "kernelspec": {
   "display_name": "Python 3 (ipykernel)",
   "language": "python",
   "name": "python3"
  },
  "language_info": {
   "codemirror_mode": {
    "name": "ipython",
    "version": 3
   },
   "file_extension": ".py",
   "mimetype": "text/x-python",
   "name": "python",
   "nbconvert_exporter": "python",
   "pygments_lexer": "ipython3",
   "version": "3.8.10"
  }
 },
 "nbformat": 4,
 "nbformat_minor": 4
}
